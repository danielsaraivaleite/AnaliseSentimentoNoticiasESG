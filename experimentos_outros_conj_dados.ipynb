{
 "cells": [
  {
   "cell_type": "markdown",
   "id": "849b8fe9",
   "metadata": {},
   "source": [
    "# Comparação do Vader com outros algoritmos"
   ]
  },
  {
   "cell_type": "code",
   "execution_count": 9,
   "id": "754987a8",
   "metadata": {},
   "outputs": [
    {
     "name": "stderr",
     "output_type": "stream",
     "text": [
      "[nltk_data] Downloading package rslp to\n",
      "[nltk_data]     /Users/danielsaraivaleite/nltk_data...\n",
      "[nltk_data]   Package rslp is already up-to-date!\n",
      "[nltk_data] Downloading package punkt to\n",
      "[nltk_data]     /Users/danielsaraivaleite/nltk_data...\n",
      "[nltk_data]   Package punkt is already up-to-date!\n",
      "[nltk_data] Downloading package stopwords to\n",
      "[nltk_data]     /Users/danielsaraivaleite/nltk_data...\n",
      "[nltk_data]   Package stopwords is already up-to-date!\n"
     ]
    }
   ],
   "source": [
    "from analise_sentimento_modelo import pondera_polaridade_titulo_texto, classifica_sentimento_vaderptbr\n",
    "from vaderSentimentptbr import SentimentIntensityAnalyzer \n",
    "from sumarizador_textrankptbr import summarize_text_rank \n",
    "from sklearn.metrics import precision_score, recall_score, f1_score, accuracy_score\n",
    "import pandas as pd\n",
    "import spacy\n",
    "import nltk\n",
    "from sklearn.model_selection import StratifiedKFold\n",
    "from sklearn.naive_bayes import MultinomialNB\n",
    "from sklearn.feature_extraction.text import CountVectorizer, TfidfVectorizer\n",
    "from sklearn.linear_model import LogisticRegression\n",
    "from sklearn.model_selection import train_test_split\n",
    "from sklearn.dummy import DummyClassifier\n",
    "from sklearn import svm\n",
    "import numpy as np\n",
    "from unidecode import unidecode\n",
    "from noticias_processamento_texto import lematizador\n",
    "     "
   ]
  },
  {
   "cell_type": "markdown",
   "id": "9e4a8fb9",
   "metadata": {},
   "source": [
    "# Funçoes de avaliação"
   ]
  },
  {
   "cell_type": "code",
   "execution_count": 10,
   "id": "6ffd387a",
   "metadata": {},
   "outputs": [],
   "source": [
    "'''\n",
    "Realiza a aplicação de cada algortimo no dataset, indicando suas métricas de Acurácia, Precisão, Cobertura e F1-measure\n",
    "Para algortimos de machine learing, aplica 5-fold cross-validation\n",
    "'''\n",
    "def avalia_algoritmo(df, col_texto, col_titulo=None, col_sentimento='sentimento', sent_pos=1, sent_neu=0, sent_neg=-1, modelo='Vader', resumir=True):\n",
    "    \n",
    "    # vader - nao supervisionado\n",
    "    \n",
    "    if modelo == 'Vader':\n",
    "        if col_titulo is not None:\n",
    "            df['sentimento_vader'] = df.apply(lambda row: classifica_sentimento_vaderptbr(polaridade_sentimento_vaderptbr(row[col_texto], row[col_titulo], resumir), sent_pos, sent_neu, sent_neg) , axis=1)\n",
    "        else:\n",
    "            df['sentimento_vader'] = df.apply(lambda row: classifica_sentimento_vaderptbr(polaridade_sentimento_vaderptbr(row[col_texto], None, resumir), sent_pos, sent_neu, sent_neg) , axis=1)\n",
    "        print('Accuracy Score: %.3f' % accuracy_score(df[col_sentimento], df['sentimento_vader']))\n",
    "        print('Precision Score: %.3f' % precision_score(df[col_sentimento], df['sentimento_vader'], average='binary'))\n",
    "        print('Recall Score: %.3f' % recall_score(df[col_sentimento], df['sentimento_vader'], average='binary'))\n",
    "        print('F1 Score: %.3f' % f1_score(df[col_sentimento], df['sentimento_vader'], average='binary'))\n",
    "        return \n",
    "    \n",
    "    # machine learning com cross-validation\n",
    "    \n",
    "    df['texto_ajustado'] = df[col_texto].apply(str.lower)\n",
    "    df['texto_ajustado'] = df['texto_ajustado'].apply(lematizador)\n",
    "\n",
    "    X, y = df['texto_ajustado'], df[col_sentimento]\n",
    "    metrics_acc = []\n",
    "    metrics_p = []\n",
    "    metrics_r = []\n",
    "    metrics_f1 = []\n",
    "\n",
    "    skf = StratifiedKFold(n_splits=5, shuffle=True)\n",
    "    for train_index, test_index in skf.split(X, y):\n",
    "        X_train, X_test = X[train_index], X[test_index]\n",
    "        y_train, y_test = y[train_index], y[test_index]\n",
    "\n",
    "        vect = TfidfVectorizer(ngram_range=(1,2), max_features=1000 , stop_words=list(spacy.lang.pt.stop_words.STOP_WORDS) + ['abc', 'xyz', 'def'])\n",
    "        X_train_dtm = vect.fit_transform(X_train)\n",
    "        X_test_dtm = vect.transform(X_test)\n",
    "        model=None\n",
    "        if modelo =='MultinomialNB':\n",
    "            model = MultinomialNB()\n",
    "        elif modelo == 'LogisticRegression':\n",
    "            model = LogisticRegression(max_iter=200)\n",
    "        else:\n",
    "            model = svm.SVC(kernel='linear')\n",
    "        model.fit(X_train_dtm, y_train)\n",
    "        y_pred_class = model.predict(X_test_dtm)\n",
    "\n",
    "        metrics_acc.append(accuracy_score(y_test, y_pred_class))\n",
    "        metrics_p.append(precision_score(y_test, y_pred_class, average='binary'))\n",
    "        metrics_r.append(recall_score(y_test, y_pred_class, average='binary'))\n",
    "        metrics_f1.append(f1_score(y_test, y_pred_class, average='binary'))\n",
    "\n",
    "    metrics_acc = np.array(metrics_acc)\n",
    "    metrics_p = np.array(metrics_p)\n",
    "    metrics_r = np.array(metrics_r)\n",
    "    metrics_f1 = np.array(metrics_f1)\n",
    "    print('Media accuracy: ', np.mean(metrics_acc, axis=0))\n",
    "    print('Media precision: ', np.mean(metrics_p, axis=0))\n",
    "    print('Media recall: ', np.mean(metrics_r, axis=0))\n",
    "    print('Media f1: ', np.mean(metrics_f1, axis=0))\n",
    "    \n",
    "    "
   ]
  },
  {
   "cell_type": "markdown",
   "id": "75fcc829",
   "metadata": {},
   "source": [
    "# Comparação com dataset do trabalho de Magner et al. (2022)"
   ]
  },
  {
   "cell_type": "code",
   "execution_count": 11,
   "id": "a590b5c6",
   "metadata": {},
   "outputs": [
    {
     "name": "stdout",
     "output_type": "stream",
     "text": [
      "Comparação com trabalho: Magner, Renata; Medeiros, Camila Alves; Felix, Klysman; Souza, Pedro Vieira. 2020. Análise de Sentimentos de Informações do Mercado Financeiro — Projeto de Conclusão de Curso — Data Science & Machine Learning da Tera. Disponível em: <https://medium.com/@renata.amp/análise-de-sentimentos-de-informações-do-mercado-financeiro-projeto-de-conclusão-de-curso-data-6a8f8dcbf441>\n",
      "\n",
      "\n",
      "Avaliando base Magner et al com VADER\n"
     ]
    },
    {
     "name": "stderr",
     "output_type": "stream",
     "text": [
      "/Users/danielsaraivaleite/opt/anaconda3/lib/python3.9/site-packages/openpyxl/worksheet/header_footer.py:48: UserWarning: Cannot parse header or footer so it will be ignored\n",
      "  warn(\"\"\"Cannot parse header or footer so it will be ignored\"\"\")\n"
     ]
    },
    {
     "name": "stdout",
     "output_type": "stream",
     "text": [
      "Accuracy Score: 0.702\n",
      "Precision Score: 0.736\n",
      "Recall Score: 0.852\n",
      "F1 Score: 0.790\n",
      "\n",
      "Avaliando base Magner et al com MultinomialNB\n",
      "Media accuracy:  0.7018388106416276\n",
      "Media precision:  0.7099536663167245\n",
      "Media recall:  0.9236702127659575\n",
      "Media f1:  0.8026369226369227\n",
      "\n",
      "Avaliando base Magner et al com LogisticRegression\n",
      "Media accuracy:  0.7157668231611893\n",
      "Media precision:  0.7128659698427517\n",
      "Media recall:  0.9534574468085106\n",
      "Media f1:  0.8152650976335186\n",
      "\n",
      "Avaliando base Magner et al com SVM\n",
      "Media accuracy:  0.6879499217527387\n",
      "Media precision:  0.7101933387435808\n",
      "Media recall:  0.8895390070921986\n",
      "Media f1:  0.7880315864369963\n"
     ]
    }
   ],
   "source": [
    "print('Comparação com trabalho: Magner, Renata; Medeiros, Camila Alves; Felix, Klysman; Souza, Pedro Vieira. 2020. Análise de Sentimentos de Informações do Mercado Financeiro — Projeto de Conclusão de Curso — Data Science & Machine Learning da Tera. Disponível em: <https://medium.com/@renata.amp/análise-de-sentimentos-de-informações-do-mercado-financeiro-projeto-de-conclusão-de-curso-data-6a8f8dcbf441>\\n')\n",
    "df = pd.read_excel('datasets/Dataset_noticias_tera.xlsx')\n",
    "\n",
    "print('\\nAvaliando base Magner et al com VADER')\n",
    "avalia_algoritmo(df, 'texto_noticia', col_titulo='titulo', col_sentimento='sentimento', sent_pos=1, sent_neu=1, sent_neg=0, modelo='Vader')\n",
    "\n",
    "print('\\nAvaliando base Magner et al com MultinomialNB')\n",
    "avalia_algoritmo(df, 'texto_noticia', col_titulo='titulo', col_sentimento='sentimento', sent_pos=1, sent_neu=1, sent_neg=0, modelo='MultinomialNB')\n",
    "    \n",
    "print('\\nAvaliando base Magner et al com LogisticRegression')\n",
    "avalia_algoritmo(df, 'texto_noticia', col_titulo='titulo', col_sentimento='sentimento', sent_pos=1, sent_neu=1, sent_neg=0, modelo='LogisticRegression')\n",
    "\n",
    "print('\\nAvaliando base Magner et al com SVM')\n",
    "avalia_algoritmo(df, 'texto_noticia', col_titulo='titulo', col_sentimento='sentimento', sent_pos=1, sent_neu=1, sent_neg=0, modelo='SVC')"
   ]
  },
  {
   "cell_type": "markdown",
   "id": "a88b5437",
   "metadata": {},
   "source": [
    "# Comparação no dataset sintético de notícias curtas geradas pelo ChatGPT"
   ]
  },
  {
   "cell_type": "code",
   "execution_count": 12,
   "id": "51fb64a1",
   "metadata": {},
   "outputs": [
    {
     "name": "stdout",
     "output_type": "stream",
     "text": [
      "\n",
      "\n",
      "Avaliando com base noticias curtas geradas pelo ChatGPT\n",
      "\n",
      "Avaliando noticias curtas do ChatGPT com VADER\n",
      "Accuracy Score: 0.780\n",
      "Precision Score: 0.792\n",
      "Recall Score: 0.760\n",
      "F1 Score: 0.776\n",
      "\n",
      "Avaliando noticias curtas do ChatGPT com MultinomialNB\n",
      "Media accuracy:  0.9400000000000001\n",
      "Media precision:  0.9102766798418973\n",
      "Media recall:  0.9800000000000001\n",
      "Media f1:  0.9428230684044637\n",
      "\n",
      "Avaliando noticias curtas do ChatGPT com LogisticRegression\n",
      "Media accuracy:  0.945\n",
      "Media precision:  0.9337229437229437\n",
      "Media recall:  0.96\n",
      "Media f1:  0.9460796926650585\n",
      "\n",
      "Avaliando noticias curtas do ChatGPT com SVM\n",
      "Media accuracy:  0.9400000000000001\n",
      "Media precision:  0.9255411255411256\n",
      "Media recall:  0.96\n",
      "Media f1:  0.9411577724799806\n"
     ]
    }
   ],
   "source": [
    "print('\\n\\nAvaliando com base noticias curtas geradas pelo ChatGPT')\n",
    "df = pd.concat([pd.read_excel('datasets/noticias_negativas_gpt.xlsx'), pd.read_excel('datasets/noticias_positivas_gpt.xlsx')], ignore_index=True)\n",
    "    \n",
    "print('\\nAvaliando noticias curtas do ChatGPT com VADER')\n",
    "avalia_algoritmo(df, 'texto', col_titulo=None, col_sentimento='sentimento', sent_pos=1, sent_neu=1, sent_neg=-1, modelo='Vader')\n",
    "\n",
    "print('\\nAvaliando noticias curtas do ChatGPT com MultinomialNB')\n",
    "avalia_algoritmo(df, 'texto', col_titulo=None, col_sentimento='sentimento', sent_pos=1, sent_neu=1, sent_neg=-1, modelo='MultinomialNB')\n",
    "    \n",
    "print('\\nAvaliando noticias curtas do ChatGPT com LogisticRegression')\n",
    "avalia_algoritmo(df, 'texto', col_titulo=None, col_sentimento='sentimento', sent_pos=1, sent_neu=1, sent_neg=-1, modelo='LogisticRegression')\n",
    "    \n",
    "print('\\nAvaliando noticias curtas do ChatGPT com SVM')\n",
    "avalia_algoritmo(df, 'texto', col_titulo=None, col_sentimento='sentimento', sent_pos=1, sent_neu=1, sent_neg=-1, modelo='SVC')\n",
    "    "
   ]
  },
  {
   "cell_type": "markdown",
   "id": "36becbb3",
   "metadata": {},
   "source": [
    "# Comparação no dataset sintético de notícias longas geradas pelo ChatGPT"
   ]
  },
  {
   "cell_type": "code",
   "execution_count": 13,
   "id": "19bb531e",
   "metadata": {},
   "outputs": [
    {
     "name": "stdout",
     "output_type": "stream",
     "text": [
      "\n",
      "\n",
      "Avaliando com base noticias longas geradas pelo ChatGPT\n",
      "\n",
      "Avaliando noticias longas do ChatGPT com VADER\n",
      "Accuracy Score: 0.950\n",
      "Precision Score: 0.966\n",
      "Recall Score: 0.933\n",
      "F1 Score: 0.949\n",
      "\n",
      "Avaliando noticias longas do ChatGPT com MultinomialNB\n",
      "Media accuracy:  1.0\n",
      "Media precision:  1.0\n",
      "Media recall:  1.0\n",
      "Media f1:  1.0\n",
      "\n",
      "Avaliando noticias longas do ChatGPT LogisticRegression\n",
      "Media accuracy:  1.0\n",
      "Media precision:  1.0\n",
      "Media recall:  1.0\n",
      "Media f1:  1.0\n",
      "\n",
      "Avaliando noticias longas do ChatGPT SVM\n",
      "Media accuracy:  0.9833333333333332\n",
      "Media precision:  0.9714285714285715\n",
      "Media recall:  1.0\n",
      "Media f1:  0.9846153846153847\n"
     ]
    }
   ],
   "source": [
    "def le_df_chatpgt(arq, sent, label='Notícia'):\n",
    "    df = pd.read_excel(arq).dropna()\n",
    "\n",
    "    df.loc[len(df)] = [label + ' X:']\n",
    "\n",
    "    texts = []\n",
    "    text = \"\"\n",
    "\n",
    "    for s in df[label+' 1:']:\n",
    "        if ':' in s and s.startswith(label+' ') and len(s) < 15:\n",
    "            texts.append(text)\n",
    "            text = \"\"\n",
    "\n",
    "        else:\n",
    "            text = text + s + '\\n'\n",
    "\n",
    "\n",
    "    df = pd.DataFrame({'texto': texts})\n",
    "    df['sentimento'] = sent\n",
    "    return df\n",
    "\n",
    "df = pd.concat([le_df_chatpgt('datasets/noticias_positivas_gpt_longas.xlsx' , 1, 'Notícia'), le_df_chatpgt('datasets/noticias_negativas_gpt_longas.xlsx' , -1, 'Texto')], ignore_index=True)\n",
    "\n",
    "print('\\n\\nAvaliando com base noticias longas geradas pelo ChatGPT')\n",
    "\n",
    "print('\\nAvaliando noticias longas do ChatGPT com VADER')\n",
    "avalia_algoritmo(df, 'texto', col_titulo=None, col_sentimento='sentimento', sent_pos=1, sent_neu=1, sent_neg=-1, modelo='Vader')\n",
    "\n",
    "print('\\nAvaliando noticias longas do ChatGPT com MultinomialNB')\n",
    "avalia_algoritmo(df, 'texto', col_titulo=None, col_sentimento='sentimento', sent_pos=1, sent_neu=1, sent_neg=-1, modelo='MultinomialNB')\n",
    "    \n",
    "print('\\nAvaliando noticias longas do ChatGPT LogisticRegression')\n",
    "avalia_algoritmo(df, 'texto', col_titulo=None, col_sentimento='sentimento', sent_pos=1, sent_neu=1, sent_neg=-1, modelo='LogisticRegression')\n",
    "    \n",
    "print('\\nAvaliando noticias longas do ChatGPT SVM')\n",
    "avalia_algoritmo(df, 'texto', col_titulo=None, col_sentimento='sentimento', sent_pos=1, sent_neu=1, sent_neg=-1, modelo='SVC')\n",
    "    "
   ]
  },
  {
   "cell_type": "markdown",
   "id": "40a4f30d",
   "metadata": {},
   "source": [
    "# Comparação no dataset traduzido de notícias financeiras FinancialPhraseBank\n",
    "Malo, P., Sinha, A., Korhonen, P., Wallenius, J., & Takala, P. (2014). Good debt or bad debt: Detecting semantic orientations in economic texts. Journal of the Association for Information Science and Technology, 65(4), 782-796.\n",
    "https://www.kaggle.com/datasets/ankurzing/sentiment-analysis-for-financial-news"
   ]
  },
  {
   "cell_type": "code",
   "execution_count": 14,
   "id": "ba78f792",
   "metadata": {},
   "outputs": [
    {
     "name": "stdout",
     "output_type": "stream",
     "text": [
      "\n",
      "Avaliando FinancialPhraseBank com VADER\n",
      "Accuracy Score: 0.621\n",
      "Precision Score: 0.778\n",
      "Recall Score: 0.634\n",
      "F1 Score: 0.698\n",
      "\n",
      "Avaliando FinancialPhraseBank com MultinomialNB\n",
      "Media accuracy:  0.8271528396688238\n",
      "Media precision:  0.8276841317256357\n",
      "Media recall:  0.9479045464339582\n",
      "Media f1:  0.8837167916227313\n",
      "\n",
      "Avaliando FinancialPhraseBank LogisticRegression\n",
      "Media accuracy:  0.8357951976853826\n",
      "Media precision:  0.8194842171760468\n",
      "Media recall:  0.9787087912087913\n",
      "Media f1:  0.891997944629804\n",
      "\n",
      "Avaliando FinancialPhraseBank SVM\n",
      "Media accuracy:  0.85612172408003\n",
      "Media precision:  0.853213946888873\n",
      "Media recall:  0.9574579831932774\n",
      "Media f1:  0.9022453277696586\n"
     ]
    }
   ],
   "source": [
    "import deep_translator\n",
    "import string\n",
    "from deep_translator import GoogleTranslator\n",
    "# traducao do dataset\n",
    "#gt = GoogleTranslator(source='en', target='pt')\n",
    "#df = pd.read_csv('FinancialPhraseBank.csv', encoding='ISO-8859-1', header=None, names=['sentiment', 'text'])\n",
    "#df['translation'] = df['text'].apply(gt.translate)\n",
    "#df.to_excel('FinancialPhraseBank_translated.xlsx', index=False)\n",
    "df = pd.read_excel('datasets/FinancialPhraseBank_translated.xlsx')\n",
    "df = df[df.sentiment != 'neutral']\n",
    "df['sentiment'] = df.sentiment.apply(lambda x : 1 if x == 'positive' else -1)\n",
    "df = df.reset_index()\n",
    "\n",
    "print('\\nAvaliando FinancialPhraseBank com VADER')\n",
    "avalia_algoritmo(df, 'translation', col_titulo=None, col_sentimento='sentiment', sent_pos=1, sent_neu=1, sent_neg=-1, modelo='Vader', resumir=False)\n",
    "\n",
    "print('\\nAvaliando FinancialPhraseBank com MultinomialNB')\n",
    "avalia_algoritmo(df, 'translation', col_titulo=None, col_sentimento='sentiment', sent_pos=1, sent_neu=1, sent_neg=-1, modelo='MultinomialNB', resumir=False)\n",
    "    \n",
    "print('\\nAvaliando FinancialPhraseBank LogisticRegression')\n",
    "avalia_algoritmo(df, 'translation', col_titulo=None, col_sentimento='sentiment', sent_pos=1, sent_neu=1, sent_neg=-1, modelo='LogisticRegression', resumir=False)\n",
    "    \n",
    "print('\\nAvaliando FinancialPhraseBank SVM')\n",
    "avalia_algoritmo(df, 'translation', col_titulo=None, col_sentimento='sentiment', sent_pos=1, sent_neu=1, sent_neg=-1, modelo='SVC', resumir=False)\n",
    "    \n"
   ]
  },
  {
   "cell_type": "code",
   "execution_count": 15,
   "id": "6deeb7ac",
   "metadata": {},
   "outputs": [
    {
     "data": {
      "text/plain": [
       "1967"
      ]
     },
     "execution_count": 15,
     "metadata": {},
     "output_type": "execute_result"
    }
   ],
   "source": [
    "len(df)"
   ]
  },
  {
   "cell_type": "code",
   "execution_count": null,
   "id": "b7eb071b",
   "metadata": {},
   "outputs": [],
   "source": []
  },
  {
   "cell_type": "code",
   "execution_count": null,
   "id": "f59be700",
   "metadata": {},
   "outputs": [],
   "source": []
  },
  {
   "cell_type": "code",
   "execution_count": null,
   "id": "d64408f1",
   "metadata": {},
   "outputs": [],
   "source": []
  },
  {
   "cell_type": "code",
   "execution_count": null,
   "id": "5c500cfe",
   "metadata": {},
   "outputs": [],
   "source": []
  },
  {
   "cell_type": "code",
   "execution_count": null,
   "id": "62367642",
   "metadata": {},
   "outputs": [],
   "source": [
    "\n"
   ]
  },
  {
   "cell_type": "code",
   "execution_count": null,
   "id": "c30b46c6",
   "metadata": {},
   "outputs": [],
   "source": []
  },
  {
   "cell_type": "code",
   "execution_count": null,
   "id": "66f6914f",
   "metadata": {},
   "outputs": [],
   "source": []
  },
  {
   "cell_type": "code",
   "execution_count": null,
   "id": "d9d6867f",
   "metadata": {},
   "outputs": [],
   "source": []
  }
 ],
 "metadata": {
  "kernelspec": {
   "display_name": "Python 3 (ipykernel)",
   "language": "python",
   "name": "python3"
  },
  "language_info": {
   "codemirror_mode": {
    "name": "ipython",
    "version": 3
   },
   "file_extension": ".py",
   "mimetype": "text/x-python",
   "name": "python",
   "nbconvert_exporter": "python",
   "pygments_lexer": "ipython3",
   "version": "3.9.13"
  }
 },
 "nbformat": 4,
 "nbformat_minor": 5
}

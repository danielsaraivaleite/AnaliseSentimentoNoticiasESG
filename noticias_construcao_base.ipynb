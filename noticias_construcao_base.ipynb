{
 "cells": [
  {
   "cell_type": "markdown",
   "id": "03cde1f2",
   "metadata": {},
   "source": [
    "# Construção da base de notícias ESG a partir da captura do Google RSS"
   ]
  },
  {
   "cell_type": "markdown",
   "id": "778bd9fa",
   "metadata": {},
   "source": [
    "- Autor: Daniel Saraiva Leite - 2023\n",
    "- Projeto Análise de sentimentos sobre notícias do tema ESG\n",
    "- Trabalho de conclusão de curso - MBA Digital Business USP Esalq"
   ]
  },
  {
   "cell_type": "code",
   "execution_count": 1,
   "id": "d5cac40d",
   "metadata": {},
   "outputs": [
    {
     "name": "stderr",
     "output_type": "stream",
     "text": [
      "[nltk_data] Downloading package rslp to\n",
      "[nltk_data]     /Users/danielsaraivaleite/nltk_data...\n",
      "[nltk_data]   Package rslp is already up-to-date!\n",
      "[nltk_data] Downloading package punkt to\n",
      "[nltk_data]     /Users/danielsaraivaleite/nltk_data...\n",
      "[nltk_data]   Package punkt is already up-to-date!\n",
      "[nltk_data] Downloading package stopwords to\n",
      "[nltk_data]     /Users/danielsaraivaleite/nltk_data...\n",
      "[nltk_data]   Package stopwords is already up-to-date!\n"
     ]
    }
   ],
   "source": [
    "import warnings\n",
    "import nltk\n",
    "import numpy as np\n",
    "import pandas as pd\n",
    "import re\n",
    "import unidecode\n",
    "import datetime as dt\n",
    "from noticias_google_buscador import busca_noticias_google_news\n",
    "from noticias_processamento_texto import remove_acentos, remove_termos_comuns, aplica_stemming_texto, remove_palavras_texto, conta_termos_esg, classifica_texto, classifica_textos_coletados, filtra_noticias_nao_relacionadas, filtra_noticias_sem_classificacao, conta_mencoes_empresas, filtra_citacao_relevante, remove_nome_composto\n",
    "from noticias_google_buscador_esg import busca_noticias_google_periodo, busca_noticias_google_esg, filtra_noticias_sites_especificos, recupera_noticias_completas, processa_busca_empresa, recupera_lista_empresas_B3\n",
    "\n",
    "\n",
    "warnings.filterwarnings('ignore')\n",
    "arquivo_termos_esg = 'datasets/palavras_chave_esg.xlsx'\n",
    "base_noticias = 'datasets/base_noticias.xlsx'\n",
    "\n",
    "\n",
    "\n",
    "'''\n",
    " Gera um arquivo em excel com todas as empresas da B3 processadas\n",
    "'''\n",
    "def processa_base_noticias():\n",
    "    \n",
    "    dfEmpresasListadas = recupera_lista_empresas_B3()\n",
    "    \n",
    "    # seleciona apenas do ranking ISE\n",
    "    dfEmpresasListadas = dfEmpresasListadas[~ pd.isnull(dfEmpresasListadas.RANKING) ]\n",
    "\n",
    "    list_empresas = list(set(list(dfEmpresasListadas['Nome'])))\n",
    "\n",
    "    \n",
    "    list_empresas = [remove_acentos(i.lower()) for i in list_empresas]\n",
    "    \n",
    "    df_atual = pd.read_excel(base_noticias)\n",
    "    \n",
    "    for empresa in list_empresas:\n",
    "        \n",
    "        if len(df_atual[df_atual['empresa'] == empresa]) == 0:  # inclusao\n",
    "        \n",
    "            print ('empresa: ' + empresa + ' - ' + str(dt.datetime.now()))\n",
    "            df = processa_busca_empresa(empresa, dfEmpresasListadas)\n",
    "            \n",
    "            if len(df) > 0:\n",
    "                print('Adicionadas ' + str(len(df)) + ' notícias para ' + empresa  )\n",
    "                df = pd.concat([df_atual,df]).drop_duplicates()\n",
    "                df_atual = df\n",
    "\n",
    "        df_atual = df_atual.drop_duplicates(['titulo','empresa','fonte', 'texto_completo'], keep='last')\n",
    "        df_atual.to_excel(base_noticias, index=False)\n",
    "            \n",
    "    return df_atual\n",
    "\n"
   ]
  },
  {
   "cell_type": "code",
   "execution_count": 2,
   "id": "966773d4",
   "metadata": {},
   "outputs": [],
   "source": [
    "# processa todas as empresas da lista da B3 com ISE\n",
    "#processa_base_noticias()"
   ]
  },
  {
   "cell_type": "code",
   "execution_count": 3,
   "id": "f1f1ebec",
   "metadata": {
    "scrolled": false
   },
   "outputs": [],
   "source": [
    "# processa uma empresa especificada\n",
    "for empresa in [ 'c&a']:\n",
    "    dfEmpresasListadas = recupera_lista_empresas_B3()\n",
    "    df1 = busca_noticias_google_esg(empresa)\n",
    "    df2 = recupera_noticias_completas(df1)\n",
    "    df3 = filtra_noticias_nao_relacionadas(df2, empresa)\n",
    "    df4 = filtra_citacao_relevante(df3, empresa, dfEmpresasListadas )\n",
    "    df5 = classifica_textos_coletados(df4)\n",
    "    df6 = df5\n",
    "    df_atual = pd.read_excel(base_noticias)\n",
    "    \n",
    "    # corte de data - se necessario inibir noticias alem de uma data\n",
    "    df6 = df6[df6.data_publicacao.dt.date < dt.date(2023, 3, 1)]\n",
    "    \n",
    "    df = pd.concat([df_atual,df6]).drop_duplicates(ignore_index=True)\n",
    "    df = df.drop_duplicates(['titulo','empresa','fonte', 'texto_completo'], keep='last')\n",
    "    df.to_excel(base_noticias, index=False)\n",
    "    \n",
    "\n",
    "\n",
    "\n",
    "    "
   ]
  },
  {
   "cell_type": "code",
   "execution_count": null,
   "id": "1da0bbf8",
   "metadata": {},
   "outputs": [],
   "source": []
  },
  {
   "cell_type": "code",
   "execution_count": null,
   "id": "b7ffd453",
   "metadata": {},
   "outputs": [],
   "source": []
  },
  {
   "cell_type": "code",
   "execution_count": null,
   "id": "17d14c4a",
   "metadata": {},
   "outputs": [],
   "source": []
  },
  {
   "cell_type": "code",
   "execution_count": null,
   "id": "d4a1d952",
   "metadata": {},
   "outputs": [],
   "source": []
  },
  {
   "cell_type": "code",
   "execution_count": null,
   "id": "6c833cba",
   "metadata": {},
   "outputs": [],
   "source": []
  },
  {
   "cell_type": "code",
   "execution_count": null,
   "id": "6e3c4506",
   "metadata": {},
   "outputs": [],
   "source": []
  },
  {
   "cell_type": "code",
   "execution_count": null,
   "id": "2fbaa0e4",
   "metadata": {},
   "outputs": [],
   "source": []
  }
 ],
 "metadata": {
  "kernelspec": {
   "display_name": "Python 3 (ipykernel)",
   "language": "python",
   "name": "python3"
  },
  "language_info": {
   "codemirror_mode": {
    "name": "ipython",
    "version": 3
   },
   "file_extension": ".py",
   "mimetype": "text/x-python",
   "name": "python",
   "nbconvert_exporter": "python",
   "pygments_lexer": "ipython3",
   "version": "3.9.13"
  }
 },
 "nbformat": 4,
 "nbformat_minor": 5
}

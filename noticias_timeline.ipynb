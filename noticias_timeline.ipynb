{
 "cells": [
  {
   "cell_type": "code",
   "execution_count": 99,
   "id": "445237ef",
   "metadata": {},
   "outputs": [],
   "source": [
    "import matplotlib.pyplot as plt\n",
    "from datetime import date\n",
    "import numpy as np\n",
    "from datetime import timedelta\n",
    "import pandas as pd\n",
    "import re\n",
    "\n",
    "def replacenth(string, sub, wanted, n):\n",
    "    # codigo adaptado de https://stackoverflow.com/questions/35091557/replace-nth-occurrence-of-substring-in-string\n",
    "    where = [m.start() for m in re.finditer(sub, string)][n-1]\n",
    "    before = string[:where]\n",
    "    after = string[where:]\n",
    "    after = after.replace(sub, wanted, 1)\n",
    "    newString = before + after\n",
    "    return (newString)\n",
    "\n",
    "def ajusta_labels(labels):\n",
    "    return [replacenth(l, ' ', '\\n', int(l.count(' ')/2)) if int(l.count(' ')) > 10 else l  for l in labels ]\n",
    "    \n",
    "\n",
    "def plota_timeline(dates, labels, titulo):\n",
    "    # codigo adaptado de: https://dadoverflow.com/2021/08/17/making-timelines-with-python/\n",
    "\n",
    "    min_date = date(np.min(dates).year - 2, np.min(dates).month, np.min(dates).day)\n",
    "    max_date = date(np.max(dates).year + 2, np.max(dates).month, np.max(dates).day)\n",
    "    \n",
    "    labels = ajusta_labels(labels)\n",
    "\n",
    "\n",
    "    # labels with associated dates\n",
    "    labels = ['{0:%d/%m/%Y}:{1}'.format(d, l) for l, d in zip (labels, dates)]\n",
    "\n",
    "    fig, ax = plt.subplots(figsize=(10, 10), constrained_layout=True)\n",
    "    _ = ax.set_xlim(-20, 20)\n",
    "    _ = ax.set_ylim(min_date, max_date)\n",
    "    _ = ax.axvline(0, ymin=0.05, ymax=0.95, c='blue', zorder=1)\n",
    "\n",
    "    _ = ax.scatter(np.zeros(len(dates)), dates, s=120, c='lightblue', zorder=2)\n",
    "    _ = ax.scatter(np.zeros(len(dates)), dates, s=30, c='darkblue', zorder=3)\n",
    "\n",
    "    label_offsets = np.repeat(2.0, len(dates))\n",
    "    label_offsets[1::2] = -2.0\n",
    "    for i, (l, d) in enumerate(zip(labels, dates)):\n",
    "        d = d - timedelta(days=90)\n",
    "        align = 'right'\n",
    "        if i % 2 == 0:\n",
    "            align = 'left'\n",
    "        _ = ax.text(label_offsets[i], d, l, ha=align,  fontsize=8)\n",
    "\n",
    "    stems = np.repeat(2.0, len(dates))\n",
    "    stems[1::2] *= -1.0   \n",
    "    x = ax.hlines(dates, 0, stems, color='darkblue')\n",
    "\n",
    "    # hide lines around chart\n",
    "    for spine in [\"left\", \"top\", \"right\", \"bottom\"]:\n",
    "        _ = ax.spines[spine].set_visible(False)\n",
    "\n",
    "    _ = ax.set_xticks([])\n",
    "    _ = ax.set_yticks([])\n",
    "\n",
    "    _ = ax.set_title(titulo,fontsize=12)"
   ]
  },
  {
   "cell_type": "code",
   "execution_count": null,
   "id": "361f8b56",
   "metadata": {},
   "outputs": [],
   "source": [
    "\n",
    "\n"
   ]
  },
  {
   "cell_type": "code",
   "execution_count": null,
   "id": "ea51dfc1",
   "metadata": {},
   "outputs": [],
   "source": []
  },
  {
   "cell_type": "code",
   "execution_count": null,
   "id": "2d270f32",
   "metadata": {},
   "outputs": [],
   "source": []
  },
  {
   "cell_type": "code",
   "execution_count": null,
   "id": "739b979f",
   "metadata": {},
   "outputs": [],
   "source": []
  }
 ],
 "metadata": {
  "kernelspec": {
   "display_name": "Python 3 (ipykernel)",
   "language": "python",
   "name": "python3"
  },
  "language_info": {
   "codemirror_mode": {
    "name": "ipython",
    "version": 3
   },
   "file_extension": ".py",
   "mimetype": "text/x-python",
   "name": "python",
   "nbconvert_exporter": "python",
   "pygments_lexer": "ipython3",
   "version": "3.9.13"
  }
 },
 "nbformat": 4,
 "nbformat_minor": 5
}
